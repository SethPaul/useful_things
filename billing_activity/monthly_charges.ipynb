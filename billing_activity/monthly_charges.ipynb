{
 "cells": [
  {
   "cell_type": "code",
   "execution_count": null,
   "metadata": {},
   "outputs": [],
   "source": [
    "import pandas as pd\n",
    "import numpy as np"
   ]
  },
  {
   "cell_type": "code",
   "execution_count": null,
   "metadata": {},
   "outputs": [],
   "source": [
    "from plotnine import ggplot, geom_point, aes, stat_smooth, facet_wrap"
   ]
  },
  {
   "cell_type": "code",
   "execution_count": null,
   "metadata": {},
   "outputs": [],
   "source": [
    "activity = {}"
   ]
  },
  {
   "cell_type": "code",
   "execution_count": null,
   "metadata": {},
   "outputs": [],
   "source": [
    "activity['2020'] = pd.read_excel('./2020.xlsx', skiprows=6, sheet_name=\"Transaction Details\")\n",
    "activity['2021'] = pd.read_excel('./2021.xlsx', skiprows=6, sheet_name=\"Transaction Details\")\n",
    "activity['2022.1'] = pd.read_excel('./2022-pt1.xlsx', skiprows=6, sheet_name=\"Transaction Details\")\n"
   ]
  },
  {
   "cell_type": "code",
   "execution_count": null,
   "metadata": {},
   "outputs": [],
   "source": [
    "activities = pd.concat(activity.values())\n",
    "activities = activities[activities.Amount > -200]"
   ]
  },
  {
   "cell_type": "code",
   "execution_count": null,
   "metadata": {},
   "outputs": [],
   "source": [
    "activities[activities.Amount < 0].sample(10)"
   ]
  },
  {
   "cell_type": "code",
   "execution_count": null,
   "metadata": {},
   "outputs": [],
   "source": [
    "activities.head(10).Description.str.extract(r'^((?:\\S+\\s+){2}\\S+).*').groupby(by=0).count()"
   ]
  },
  {
   "cell_type": "code",
   "execution_count": null,
   "metadata": {},
   "outputs": [],
   "source": [
    "activity.Description.str.extract(r'^((?:\\S+\\s+){2}\\S+).*', expand=False).str.lower()"
   ]
  },
  {
   "cell_type": "code",
   "execution_count": null,
   "metadata": {},
   "outputs": [],
   "source": [
    "def apply_filter(row, filter_string):\n",
    "    return row['Amount'] if  filter_string in str(row['trunc_desc']) else 0"
   ]
  },
  {
   "cell_type": "code",
   "execution_count": null,
   "metadata": {},
   "outputs": [],
   "source": [
    "def apply_group_filter(row, group_list):\n",
    "    return any(filter_string in str(row['trunc_desc']) for filter_string in group_list)"
   ]
  },
  {
   "cell_type": "code",
   "execution_count": null,
   "metadata": {},
   "outputs": [],
   "source": [
    "grocers = []\n"
   ]
  },
  {
   "cell_type": "code",
   "execution_count": null,
   "metadata": {},
   "outputs": [],
   "source": [
    "recurring = []"
   ]
  },
  {
   "cell_type": "code",
   "execution_count": null,
   "metadata": {},
   "outputs": [],
   "source": [
    "april_set = set(enriched[enriched.tran_month=='2022-04-01'].trunc_desc.values)"
   ]
  },
  {
   "cell_type": "code",
   "execution_count": null,
   "metadata": {},
   "outputs": [],
   "source": [
    "feb_set = set(enriched[enriched.tran_month=='2022-02-01'].trunc_desc.values)"
   ]
  },
  {
   "cell_type": "code",
   "execution_count": null,
   "metadata": {},
   "outputs": [],
   "source": [
    "march_set = set(enriched[enriched.tran_month=='2022-03-01'].trunc_desc.values)"
   ]
  },
  {
   "cell_type": "code",
   "execution_count": null,
   "metadata": {},
   "outputs": [],
   "source": [
    "recent_set =  [x for x in april_set.intersection(march_set) if str(x) != 'nan'] "
   ]
  },
  {
   "cell_type": "code",
   "execution_count": null,
   "metadata": {},
   "outputs": [],
   "source": [
    "recent_set"
   ]
  },
  {
   "cell_type": "code",
   "execution_count": null,
   "metadata": {},
   "outputs": [],
   "source": [
    "set(recent_set).intersection(set(recurring))"
   ]
  },
  {
   "cell_type": "code",
   "execution_count": null,
   "metadata": {},
   "outputs": [],
   "source": [
    "set(recent_set).difference(set(recurring))"
   ]
  },
  {
   "cell_type": "code",
   "execution_count": null,
   "metadata": {},
   "outputs": [],
   "source": [
    "def enrich_df(df):\n",
    "    df['trunc_desc'] = (df.Description\n",
    "                        .str.extract(r'^((?:\\S+\\s+){2}\\S+).*', expand=False)\n",
    "                        .str.lower()\n",
    "                       )\n",
    "    df['tran_month'] = pd.to_datetime(df.Date).dt.to_period('M').dt.to_timestamp()\n",
    "    df['recurring']= df.apply(lambda x: apply_group_filter(x, recurring), axis=1)\n",
    "    df['recent_recurring']= df.apply(lambda x: apply_group_filter(x, recent_set), axis=1)\n",
    "    return df"
   ]
  },
  {
   "cell_type": "code",
   "execution_count": null,
   "metadata": {},
   "outputs": [],
   "source": [
    "enriched = enrich_df(activities)\n",
    "enriched_recurring = enriched[enriched.recurring]\n",
    "enriched_recent = enriched[enriched.recent_recurring]"
   ]
  },
  {
   "cell_type": "code",
   "execution_count": null,
   "metadata": {},
   "outputs": [],
   "source": [
    "enriched.duplicated()"
   ]
  },
  {
   "cell_type": "code",
   "execution_count": null,
   "metadata": {},
   "outputs": [],
   "source": [
    "enriched_recurring"
   ]
  },
  {
   "cell_type": "code",
   "execution_count": null,
   "metadata": {},
   "outputs": [],
   "source": [
    "enriched.groupby(['tran_month']).sum('Amount').reset_index(level=[0])"
   ]
  },
  {
   "cell_type": "code",
   "execution_count": null,
   "metadata": {},
   "outputs": [],
   "source": [
    "(ggplot(enriched.groupby(['tran_month']).sum('Amount').reset_index(level=[0]), aes('tran_month', 'Amount'), )\n",
    " + geom_point())\n",
    "#  + stat_smooth(method='lm'))\n",
    "#  + facet_wrap('~gear'))"
   ]
  },
  {
   "cell_type": "code",
   "execution_count": null,
   "metadata": {},
   "outputs": [],
   "source": [
    "(ggplot(enriched_recurring.groupby(['tran_month']).sum('Amount').reset_index(level=[0]), aes('tran_month', 'Amount'), )\n",
    " + geom_point())\n",
    "#  + stat_smooth(method='lm'))\n",
    "#  + facet_wrap('~gear'))"
   ]
  },
  {
   "cell_type": "code",
   "execution_count": null,
   "metadata": {},
   "outputs": [],
   "source": [
    "(ggplot(enriched_recent.groupby(['tran_month']).sum('Amount').reset_index(level=[0]), aes('tran_month', 'Amount'), )\n",
    " + geom_point())\n",
    "#  + stat_smooth(method='lm'))\n",
    "#  + facet_wrap('~gear'))"
   ]
  },
  {
   "cell_type": "code",
   "execution_count": null,
   "metadata": {},
   "outputs": [],
   "source": [
    "per_month = enriched.groupby(['trunc_desc', 'tran_month', 'Category']).sum().reset_index(level=[0,1,2])"
   ]
  },
  {
   "cell_type": "code",
   "execution_count": null,
   "metadata": {},
   "outputs": [],
   "source": [
    "enriched.groupby(['Category']).sum('Amount').reset_index(level=[0]).sort_values(by='Amount', ascending= False)"
   ]
  },
  {
   "cell_type": "code",
   "execution_count": null,
   "metadata": {},
   "outputs": [],
   "source": [
    "enriched_recurring.groupby(['Category']).sum('Amount').reset_index(level=[0]).sort_values(by='Amount', ascending= False)"
   ]
  },
  {
   "cell_type": "code",
   "execution_count": null,
   "metadata": {},
   "outputs": [],
   "source": [
    "(enriched[enriched.Category=='Merchandise & Supplies-Hardware Supplies']\n",
    ".groupby(['trunc_desc'])\n",
    " .sum()\n",
    " .sort_values(by='Amount', ascending= False)\n",
    ")"
   ]
  },
  {
   "cell_type": "code",
   "execution_count": null,
   "metadata": {},
   "outputs": [],
   "source": [
    "(enriched[enriched.Category=='Merchandise & Supplies-Internet Purchase']\n",
    ".groupby(['trunc_desc'])\n",
    " .sum()\n",
    " .sort_values(by='Amount', ascending= False)\n",
    ")"
   ]
  },
  {
   "cell_type": "code",
   "execution_count": null,
   "metadata": {},
   "outputs": [],
   "source": [
    "(enriched[enriched.Category=='Merchandise & Supplies-Groceries']\n",
    ".groupby(['trunc_desc'])\n",
    " .sum()\n",
    " .sort_values(by='Amount', ascending= False)\n",
    ")"
   ]
  },
  {
   "cell_type": "code",
   "execution_count": null,
   "metadata": {},
   "outputs": [],
   "source": [
    "(enriched[enriched.Category=='Business Services-Contracting Services']\n",
    ".groupby(['trunc_desc'])\n",
    " .sum()\n",
    " .sort_values(by='Amount', ascending= False)\n",
    ")"
   ]
  },
  {
   "cell_type": "code",
   "execution_count": null,
   "metadata": {},
   "outputs": [],
   "source": [
    "(enriched[enriched.Category=='Business Services-Health Care Services']\n",
    ".groupby(['trunc_desc'])\n",
    " .sum()\n",
    " .sort_values(by='Amount', ascending= False)\n",
    ")"
   ]
  },
  {
   "cell_type": "code",
   "execution_count": null,
   "metadata": {},
   "outputs": [],
   "source": [
    "(enriched[enriched.Category=='Merchandise & Supplies-General Retail']\n",
    ".groupby(['trunc_desc'])\n",
    " .sum()\n",
    " .sort_values(by='Amount', ascending= False)\n",
    ")"
   ]
  },
  {
   "cell_type": "code",
   "execution_count": null,
   "metadata": {},
   "outputs": [],
   "source": [
    "(enriched[enriched.Category=='Merchandise & Supplies-Computer Supplies']\n",
    ".groupby(['trunc_desc'])\n",
    " .sum()\n",
    " .sort_values(by='Amount', ascending= False)\n",
    ")"
   ]
  },
  {
   "cell_type": "code",
   "execution_count": null,
   "metadata": {},
   "outputs": [],
   "source": [
    "plotnine.options.figure_size = (6.5, 12)"
   ]
  },
  {
   "cell_type": "code",
   "execution_count": null,
   "metadata": {},
   "outputs": [],
   "source": [
    "(ggplot(enriched.groupby(['tran_month', 'Category']).sum('Amount').reset_index(level=[0,1]), \n",
    "        aes('tran_month', 'Amount', color='Category'))\n",
    " + geom_point())\n",
    "#  + stat_smooth(method='lm'))\n",
    "#  + facet_wrap('~Category'))"
   ]
  },
  {
   "cell_type": "code",
   "execution_count": null,
   "metadata": {},
   "outputs": [],
   "source": [
    "(ggplot(enriched_recent.groupby(['tran_month', 'Category']).sum('Amount').reset_index(level=[0,1]), \n",
    "        aes('tran_month', 'Amount', color='Category'))\n",
    " + geom_point())\n",
    "#  + stat_smooth(method='lm'))\n",
    "#  + facet_wrap('~Category'))"
   ]
  },
  {
   "cell_type": "code",
   "execution_count": null,
   "metadata": {},
   "outputs": [],
   "source": [
    "(ggplot(enriched_recurring.groupby(['tran_month', 'Category']).sum('Amount').reset_index(level=[0,1]), \n",
    "        aes('tran_month', 'Amount', color='Category'))\n",
    " + geom_point())\n",
    "#  + stat_smooth(method='lm'))\n",
    "#  + facet_wrap('~Category'))"
   ]
  },
  {
   "cell_type": "code",
   "execution_count": null,
   "metadata": {},
   "outputs": [],
   "source": [
    "sums = per_month.groupby(['tran_month', 'Category']).sum().reset_index(level=[0,1])"
   ]
  },
  {
   "cell_type": "code",
   "execution_count": null,
   "metadata": {},
   "outputs": [],
   "source": [
    "sums[sums.Category == 'Merchandise & Supplies-Groceries']"
   ]
  },
  {
   "cell_type": "code",
   "execution_count": null,
   "metadata": {},
   "outputs": [],
   "source": []
  },
  {
   "cell_type": "code",
   "execution_count": null,
   "metadata": {},
   "outputs": [],
   "source": [
    "vendor_sums = per_month.groupby(['trunc_desc', 'tran_month']).sum().reset_index(level=[0,1])"
   ]
  },
  {
   "cell_type": "code",
   "execution_count": null,
   "metadata": {},
   "outputs": [],
   "source": [
    "vendor_sums"
   ]
  },
  {
   "cell_type": "code",
   "execution_count": null,
   "metadata": {},
   "outputs": [],
   "source": [
    "enriched['recurring']= enriched.apply(lambda x: apply_group_filter(x, recurring), axis=1)"
   ]
  },
  {
   "cell_type": "code",
   "execution_count": null,
   "metadata": {},
   "outputs": [],
   "source": [
    "def calc_group(row, group__list):\n",
    "    return row.filter(items=grocers).sum()"
   ]
  },
  {
   "cell_type": "code",
   "execution_count": null,
   "metadata": {},
   "outputs": [],
   "source": [
    "activity.filter(items=grocers).sum()"
   ]
  },
  {
   "cell_type": "code",
   "execution_count": null,
   "metadata": {},
   "outputs": [],
   "source": [
    "filtered = enriched_recent[enriched_recent.trunc_desc != 'the home depot']"
   ]
  },
  {
   "cell_type": "code",
   "execution_count": null,
   "metadata": {},
   "outputs": [],
   "source": [
    "filtered.groupby('trunc_desc').sum().sort_values(by='Amount', ascending=False)"
   ]
  },
  {
   "cell_type": "code",
   "execution_count": null,
   "metadata": {},
   "outputs": [],
   "source": [
    "(ggplot(filtered.groupby(['tran_month', 'trunc_desc']).sum('Amount').reset_index(level=[0,1]), \n",
    "        aes('tran_month', 'Amount', color='trunc_desc'))\n",
    " + geom_point())\n",
    "#  + stat_smooth(method='lm'))\n",
    "#  + facet_wrap('~Category'))"
   ]
  },
  {
   "cell_type": "code",
   "execution_count": null,
   "metadata": {},
   "outputs": [],
   "source": [
    "(ggplot(filtered.groupby(['tran_month']).sum('Amount').reset_index(level=[0]), \n",
    "        aes('tran_month', 'Amount'))\n",
    " + geom_point())\n",
    "#  + stat_smooth(method='lm'))\n",
    "#  + facet_wrap('~Category'))"
   ]
  },
  {
   "cell_type": "code",
   "execution_count": null,
   "metadata": {},
   "outputs": [],
   "source": [
    "april_set = set(enriched[enriched.tran_month=='2022-04-01'].trunc_desc.values)"
   ]
  },
  {
   "cell_type": "code",
   "execution_count": null,
   "metadata": {},
   "outputs": [],
   "source": [
    "may_set = set(enriched[enriched.tran_month=='2022-05-01'].trunc_desc.values)"
   ]
  },
  {
   "cell_type": "code",
   "execution_count": null,
   "metadata": {},
   "outputs": [],
   "source": [
    "march_set = set(enriched[enriched.tran_month=='2022-03-01'].trunc_desc.values)"
   ]
  },
  {
   "cell_type": "code",
   "execution_count": null,
   "metadata": {},
   "outputs": [],
   "source": [
    "april_set.union(may_set).union(march_set)"
   ]
  },
  {
   "cell_type": "code",
   "execution_count": null,
   "metadata": {},
   "outputs": [],
   "source": []
  }
 ],
 "metadata": {
  "kernelspec": {
   "display_name": "Python 3",
   "language": "python",
   "name": "python3"
  },
  "language_info": {
   "codemirror_mode": {
    "name": "ipython",
    "version": 3
   },
   "file_extension": ".py",
   "mimetype": "text/x-python",
   "name": "python",
   "nbconvert_exporter": "python",
   "pygments_lexer": "ipython3",
   "version": "3.8.10"
  }
 },
 "nbformat": 4,
 "nbformat_minor": 4
}
