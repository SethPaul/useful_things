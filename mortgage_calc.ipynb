{
 "cells": [
  {
   "cell_type": "code",
   "execution_count": null,
   "metadata": {},
   "outputs": [],
   "source": [
    "library(dplyr)\n",
    "library(lubridate)\n",
    "library(ggplot2)"
   ]
  },
  {
   "cell_type": "code",
   "execution_count": null,
   "metadata": {},
   "outputs": [],
   "source": [
    "default_home_value <- 800000\n",
    "default_down_payment <- default_home_value * 0.20\n",
    "default_interest_rate <- 0.03\n",
    "# term_yrs <- 30\n",
    "start_date <- floor_date(unit='month', today()+ months(1))\n",
    "start_date <- ymd(20201101)\n",
    "default_payment <- 2200\n",
    "yearly_costs <- 313*12\n",
    "pmi <- 118\n",
    "print(paste('downPayment:', default_down_payment))"
   ]
  },
  {
   "cell_type": "code",
   "execution_count": null,
   "metadata": {},
   "outputs": [],
   "source": [
    "month_seq <- seq(start_date,start_date+years(60), by = 'months')"
   ]
  },
  {
   "cell_type": "code",
   "execution_count": null,
   "metadata": {},
   "outputs": [],
   "source": [
    "day_seq <- seq(start_date,start_date+years(30), by = 'days')"
   ]
  },
  {
   "cell_type": "code",
   "execution_count": null,
   "metadata": {},
   "outputs": [],
   "source": [
    "default_payment_schedule <- tibble(month_date = month_seq, \n",
    "                           standard_payment = rep(default_payment,times=length(month_seq)),\n",
    "                                   payment = default_payment)"
   ]
  },
  {
   "cell_type": "code",
   "execution_count": null,
   "metadata": {},
   "outputs": [],
   "source": [
    "override_payment_schedule <- function(input_payments, standard_payment_schedule){\n",
    "    payment_schedule <- standard_payment_schedule %>%\n",
    "    left_join(input_payments, by=c('month_date'='month_date')) %>%\n",
    "    mutate(\n",
    "    payment = ifelse(\n",
    "        is.na(override_payment), \n",
    "        standard_payment, \n",
    "        override_payment))\n",
    "    return(payment_schedule)\n",
    "}"
   ]
  },
  {
   "cell_type": "code",
   "execution_count": null,
   "metadata": {},
   "outputs": [],
   "source": [
    "mortgage_calc <- function(home_value, down_payment, interest_rate, payment_schedule, tag) {\n",
    "    current_value = home_value - down_payment\n",
    "first_payment = 0\n",
    "next_value= current_value*(1+interest_rate/12)-first_payment\n",
    "df <- tibble(day = start_date, \n",
    "             current_value = current_value, \n",
    "             payment = first_payment,\n",
    "             interest=0,\n",
    "             next_value, additional_costs = pmi+yearly_costs/12, pmi=pmi)\n",
    "for (month_index in 1:length(month_seq)){\n",
    "    this_payment <- payment_schedule[[month_index, 'payment']]\n",
    "    this_interest <- next_value*(interest_rate/12)\n",
    "    this_pmi <- ifelse(home_value*0.8 < next_value, pmi, 0)\n",
    "    next_value <- next_value + this_interest - this_payment \n",
    "    temp_df<-tibble(\n",
    "        day = month_seq[month_index], \n",
    "             current_value =  ifelse(next_value> 0, next_value, 0), \n",
    "             payment = ifelse(next_value> 0, this_payment, 0),\n",
    "        interest = this_interest,\n",
    "             next_value = ifelse(next_value> 0, next_value, 0),\n",
    "        additional_costs=this_pmi+yearly_costs/12,\n",
    "        pmi=this_pmi\n",
    "            )\n",
    "    df <- df %>% rbind(temp_df)\n",
    "    \n",
    "}\n",
    "    result_df <- df %>% \n",
    "   filter(next_value > 0) %>%\n",
    "mutate(\n",
    "    cum_payment = cumsum(payment),\n",
    "    cum_interest = cumsum(interest),\n",
    "    cum_pmi = cumsum(pmi),\n",
    "    cum_total = cum_payment + cum_pmi\n",
    ") %>% \n",
    "     mutate(tag=tag) \n",
    "    return(result_df)\n",
    "                             }"
   ]
  },
  {
   "cell_type": "code",
   "execution_count": null,
   "metadata": {},
   "outputs": [],
   "source": [
    "test_mortgage_df <- mortgage_calc(default_home_value, default_down_payment, default_interest_rate, default_payment_schedule, 'standard')\n",
    "testthat::expect_equal(test_mortgage_df[[nrow(test_mortgage_df),'cum_payment']],1150600)"
   ]
  },
  {
   "cell_type": "code",
   "execution_count": null,
   "metadata": {},
   "outputs": [],
   "source": [
    "test_mortgage_df %>% head()"
   ]
  },
  {
   "cell_type": "code",
   "execution_count": null,
   "metadata": {},
   "outputs": [],
   "source": [
    "standard_payment <- default_payment\n",
    "standard_payment_schedule <- tibble(month_date = month_seq, \n",
    "                           standard_payment = rep(standard_payment,times=length(month_seq)),\n",
    "                                   payment = standard_payment)"
   ]
  },
  {
   "cell_type": "code",
   "execution_count": null,
   "metadata": {},
   "outputs": [],
   "source": [
    "override_payment <- 3000\n",
    "override_payments3 <- tibble(month_date = month_seq, \n",
    "                                   override_payment = override_payment)"
   ]
  },
  {
   "cell_type": "code",
   "execution_count": null,
   "metadata": {},
   "outputs": [],
   "source": [
    "override_payments <-\n",
    "tibble(month_date = month_seq[1:5], override_payment=4224) %>%\n",
    "rbind(tibble(month_date = month_seq[6:11], override_payment=4224)) %>%\n",
    "rbind(tibble(month_date = month_seq[13:600], override_payment=4224)) %>%\n",
    "mutate(month_date = ymd(month_date))"
   ]
  },
  {
   "cell_type": "code",
   "execution_count": null,
   "metadata": {},
   "outputs": [],
   "source": [
    "override_payments2 <-\n",
    "tibble(month_date = month_seq[1:5], override_payment=4224) %>%\n",
    "rbind(tibble(month_date = month_seq[6:11], override_payment=2224)) %>%\n",
    "rbind(tibble(month_date = month_seq[13:600], override_payment=4224)) %>%\n",
    "mutate(month_date = ymd(month_date))"
   ]
  },
  {
   "cell_type": "code",
   "execution_count": null,
   "metadata": {},
   "outputs": [],
   "source": [
    "override_payments2"
   ]
  },
  {
   "cell_type": "code",
   "execution_count": null,
   "metadata": {},
   "outputs": [],
   "source": [
    "full_value <- default_home_value\n",
    "down <- default_down_payment\n",
    "down"
   ]
  },
  {
   "cell_type": "code",
   "execution_count": null,
   "metadata": {},
   "outputs": [],
   "source": [
    "standard_mortgage_df <- mortgage_calc(full_value, down, default_interest_rate, standard_payment_schedule, 'standard')\n",
    "override_mortgage_df <- mortgage_calc(full_value, down, default_interest_rate, override_payment_schedule(override_payments,standard_payment_schedule), 'override4224')\n",
    "override_mortgage_df2 <- mortgage_calc(full_value, down, default_interest_rate, override_payment_schedule(override_payments2,standard_payment_schedule), 'override4224_minus6')\n",
    "# override_mortgage_df3 <- mortgage_calc(full_value, down, default_interest_rate, override_payment_schedule(override_payments3,standard_payment_schedule), 'override3000')\n",
    "\n",
    "\n",
    "larger_mortgage_df <- mortgage_calc(full_value, down+20000, default_interest_rate, override_payment_schedule(override_payments,standard_payment_schedule), 'larger_down4069')\n",
    "larger_only_mortgage_df <- mortgage_calc(full_value, down+20000, default_interest_rate, standard_payment_schedule, 'larger_down_only')"
   ]
  },
  {
   "cell_type": "code",
   "execution_count": null,
   "metadata": {},
   "outputs": [],
   "source": [
    "mortgage_df <- rbind(standard_mortgage_df,\n",
    "                     override_mortgage_df,\n",
    "                     override_mortgage_df2\n",
    "#                      override_mortgage_df3,\n",
    "#                      larger_mortgage_df,\n",
    "#                      larger_only_mortgage_df\n",
    "                    )\n",
    "mortgage_df %>% \n",
    "group_by(tag) %>%\n",
    "arrange(desc(day)) %>%\n",
    "slice(1)"
   ]
  },
  {
   "cell_type": "raw",
   "metadata": {},
   "source": [
    "mortgage_df %>% head()"
   ]
  },
  {
   "cell_type": "raw",
   "metadata": {},
   "source": [
    "mortgage_df %>% tail()"
   ]
  },
  {
   "cell_type": "code",
   "execution_count": null,
   "metadata": {},
   "outputs": [],
   "source": [
    "mortgage_df %>%\n",
    "reshape2::melt(id.vars=c('day', 'tag')) %>%\n",
    "ggplot(aes(x=day, y= value, color=tag)) +\n",
    "geom_line() +\n",
    "facet_grid(variable ~. , scales = 'free')"
   ]
  },
  {
   "cell_type": "code",
   "execution_count": null,
   "metadata": {},
   "outputs": [],
   "source": [
    "mortgage_df %>%\n",
    "mutate(year_date = floor_date(unit='year', day )) %>%\n",
    "select(-day) %>%\n",
    "group_by(year_date, tag) %>%\n",
    "summarise_all(sum) %>%\n",
    "reshape2::melt(id.vars=c('year_date', 'tag')) %>%\n",
    "# head()\n",
    "ggplot(aes(x=year_date, y= value, color=tag)) +\n",
    "geom_line() +\n",
    "facet_grid(variable ~. , scales = 'free')"
   ]
  },
  {
   "cell_type": "code",
   "execution_count": null,
   "metadata": {},
   "outputs": [],
   "source": []
  },
  {
   "cell_type": "code",
   "execution_count": null,
   "metadata": {},
   "outputs": [],
   "source": []
  },
  {
   "cell_type": "code",
   "execution_count": null,
   "metadata": {},
   "outputs": [],
   "source": [
    "mortgage_calc_day <- function(home_value, down_payment, interest_rate, payment_schedule, tag) {\n",
    "    current_value = home_value - down_payment\n",
    "first_payment = 0\n",
    "next_value= current_value*(1+interest_rate/365)-first_payment\n",
    "df <- tibble(day = start_date, \n",
    "             current_value = current_value, \n",
    "             payment = first_payment,\n",
    "             interest=0,\n",
    "             next_value, additional_costs = pmi/30+yearly_costs/365, pmi=pmi/30)\n",
    "for (day_index in 1:length(day_seq)){\n",
    "    if (next_value >0 ){\n",
    "    days_payment <- payment_schedule[payment_schedule$month_date==day_seq[day_index], 'payment']\n",
    "    if (nrow(days_payment)==1) {\n",
    "        this_payment<-days_payment[[1]]\n",
    "    } else {\n",
    "        this_payment<-0\n",
    "    }\n",
    "    this_interest <- next_value*(interest_rate/365)\n",
    "    this_pmi <- ifelse(home_value*0.8 < next_value, pmi, 0)\n",
    "    next_value <- next_value + this_interest - this_payment \n",
    "    temp_df<-tibble(\n",
    "        day = day_seq[day_index], \n",
    "             current_value =  ifelse(next_value> 0, next_value, 0), \n",
    "             payment = ifelse(next_value> 0, this_payment, 0),\n",
    "        interest = this_interest,\n",
    "             next_value = ifelse(next_value> 0, next_value, 0),\n",
    "        additional_costs=this_pmi/30+yearly_costs/365,\n",
    "        pmi=this_pmi/30\n",
    "            )\n",
    "    df <- df %>% rbind(temp_df)\n",
    "        }\n",
    "    \n",
    "}\n",
    "    result_df <- df %>% \n",
    "   filter(next_value > 0) %>%\n",
    "mutate(\n",
    "    cum_payment = cumsum(payment),\n",
    "    cum_interest = cumsum(interest),\n",
    "    cum_pmi = cumsum(pmi),\n",
    "    cum_total = cum_payment + cum_pmi\n",
    ") %>% \n",
    "     mutate(tag=tag) \n",
    "    return(result_df)\n",
    "                             }"
   ]
  },
  {
   "cell_type": "code",
   "execution_count": null,
   "metadata": {},
   "outputs": [],
   "source": [
    "default_payment_schedule[default_payment_schedule$month_date==day_seq[1],'payment'][[1]]"
   ]
  },
  {
   "cell_type": "code",
   "execution_count": null,
   "metadata": {},
   "outputs": [],
   "source": [
    "test_mortgage_df <- mortgage_calc_day(default_home_value, default_down_payment, default_interest_rate, default_payment_schedule, 'standard')\n",
    "testthat::expect_lt(abs(test_mortgage_df[[nrow(test_mortgage_df),'cum_payment']]-(427405+221299)), 5000)"
   ]
  },
  {
   "cell_type": "code",
   "execution_count": null,
   "metadata": {},
   "outputs": [],
   "source": [
    "standard_payment <- default_payment/2\n",
    "payment_seq <- seq(start_date,start_date+years(30), by = '2 weeks')\n",
    "standard_payment_schedule_2_weeks <- tibble(month_date = payment_seq, \n",
    "                           standard_payment = rep(standard_payment,times=length(payment_seq)),\n",
    "                                   payment = standard_payment)"
   ]
  },
  {
   "cell_type": "code",
   "execution_count": null,
   "metadata": {},
   "outputs": [],
   "source": [
    "override_payment <- (6500-2000-431)/2\n",
    "override_payments_2_weeks <- tibble(month_date = payment_seq, \n",
    "                                   override_payment = override_payment)"
   ]
  },
  {
   "cell_type": "code",
   "execution_count": null,
   "metadata": {},
   "outputs": [],
   "source": [
    "standard_mortgage_df <- mortgage_calc(full_value, down, default_interest_rate, standard_payment_schedule, 'standard')\n",
    "\n",
    "override_mortgage_df <- mortgage_calc(full_value, down, default_interest_rate, override_payment_schedule(override_payments,standard_payment_schedule), 'override4069')\n",
    "override_mortgage_df2 <- mortgage_calc(full_value, down, default_interest_rate, override_payment_schedule(override_payments2,standard_payment_schedule), 'override4869')\n",
    "override_mortgage_df3 <- mortgage_calc(full_value, down, default_interest_rate, override_payment_schedule(override_payments3,standard_payment_schedule), 'override3000')\n",
    "\n",
    "\n",
    "larger_mortgage_df <- mortgage_calc(full_value, down+20000, default_interest_rate, override_payment_schedule(override_payments,standard_payment_schedule), 'larger_down4069')\n",
    "larger_only_mortgage_df <- mortgage_calc(full_value, down+20000, default_interest_rate, standard_payment_schedule, 'larger_down_only')"
   ]
  },
  {
   "cell_type": "code",
   "execution_count": null,
   "metadata": {},
   "outputs": [],
   "source": [
    "standard_2_week_mortgage_df <- mortgage_calc_day(full_value, down, default_interest_rate, standard_payment_schedule_2_weeks, 'standard_2_weeks')\n"
   ]
  },
  {
   "cell_type": "code",
   "execution_count": null,
   "metadata": {},
   "outputs": [],
   "source": [
    "standard_2_week_mortgage_df %>% tail()"
   ]
  },
  {
   "cell_type": "code",
   "execution_count": null,
   "metadata": {},
   "outputs": [],
   "source": [
    "override_2_week_mortgage_df <- mortgage_calc_day(full_value, down, default_interest_rate, override_payment_schedule(override_payments_2_weeks,standard_payment_schedule_2_weeks), 'override_4069_2_weeks')\n"
   ]
  },
  {
   "cell_type": "code",
   "execution_count": null,
   "metadata": {},
   "outputs": [],
   "source": [
    "mortgage_df <- rbind(standard_mortgage_df,\n",
    "                     override_mortgage_df,\n",
    "                     override_mortgage_df2,\n",
    "#                      override_mortgage_df3,\n",
    "                     larger_mortgage_df,\n",
    "                     larger_only_mortgage_df,\n",
    "#                      standard_2_week_mortgage_df,\n",
    "#                     override_2_week_mortgage_df\n",
    "                    )\n",
    "mortgage_df %>% \n",
    "group_by(tag) %>%\n",
    "arrange(desc(day)) %>%\n",
    "slice(1)"
   ]
  },
  {
   "cell_type": "code",
   "execution_count": null,
   "metadata": {},
   "outputs": [],
   "source": [
    "mortgage_df %>%\n",
    "reshape2::melt(id.vars=c('day', 'tag')) %>%\n",
    "ggplot(aes(x=day, y= value, color=tag)) +\n",
    "geom_line() +\n",
    "facet_grid(variable ~. , scales = 'free')"
   ]
  },
  {
   "cell_type": "code",
   "execution_count": null,
   "metadata": {},
   "outputs": [],
   "source": [
    "mortgage_df %>% tail()"
   ]
  },
  {
   "cell_type": "code",
   "execution_count": null,
   "metadata": {},
   "outputs": [],
   "source": [
    "mortgage_df %>%\n",
    "mutate(year_date = floor_date(unit='year', day )) %>%\n",
    "select(-day) %>%\n",
    "group_by(year_date, tag) %>%\n",
    "summarise(\n",
    "    current_value= max(current_value),\n",
    "    payment = sum(payment),\n",
    "    interest = sum(interest),\n",
    "    additional_costs = sum(additional_costs),\n",
    "    pmi = sum(pmi),\n",
    "    cum_payment=max(cum_payment),\n",
    "    cum_interest=max(cum_interest),\n",
    "    cum_pmi=max(cum_pmi),\n",
    "    cum_total=max(cum_total),\n",
    "    ) %>%\n",
    "reshape2::melt(id.vars=c('year_date', 'tag')) %>%\n",
    "# head()\n",
    "ggplot(aes(x=year_date, y= value, color=tag)) +\n",
    "geom_line() +\n",
    "facet_grid(variable ~. , scales = 'free')"
   ]
  },
  {
   "cell_type": "code",
   "execution_count": null,
   "metadata": {},
   "outputs": [],
   "source": [
    "mortgage_df %>%\n",
    "mutate(month_date = floor_date(unit='month', day )) %>%\n",
    "select(-day) %>%\n",
    "group_by(month_date, tag) %>%\n",
    "summarise(\n",
    "    current_value= max(current_value),\n",
    "    payment = sum(payment),\n",
    "    interest = sum(interest),\n",
    "    additional_costs = sum(additional_costs),\n",
    "    pmi = sum(pmi),\n",
    "    cum_payment=max(cum_payment),\n",
    "    cum_interest=max(cum_interest),\n",
    "    cum_pmi=max(cum_pmi),\n",
    "    cum_total=max(cum_total),\n",
    "    ) %>%\n",
    "reshape2::melt(id.vars=c('month_date', 'tag')) %>%\n",
    "# head()\n",
    "ggplot(aes(x=month_date, y= value, color=tag)) +\n",
    "geom_line() +\n",
    "facet_grid(variable ~. , scales = 'free')"
   ]
  },
  {
   "cell_type": "code",
   "execution_count": null,
   "metadata": {},
   "outputs": [],
   "source": []
  }
 ],
 "metadata": {
  "kernelspec": {
   "display_name": "R",
   "language": "R",
   "name": "ir"
  },
  "language_info": {
   "codemirror_mode": "r",
   "file_extension": ".r",
   "mimetype": "text/x-r-source",
   "name": "R",
   "pygments_lexer": "r",
   "version": "3.6.3"
  }
 },
 "nbformat": 4,
 "nbformat_minor": 2
}
